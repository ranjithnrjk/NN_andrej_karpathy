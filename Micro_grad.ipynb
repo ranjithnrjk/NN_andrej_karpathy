{
  "cells": [
    {
      "cell_type": "markdown",
      "metadata": {
        "id": "view-in-github",
        "colab_type": "text"
      },
      "source": [
        "<a href=\"https://colab.research.google.com/github/ranjithnrjk/NN_andrej_karpathy/blob/main/Micro_grad.ipynb\" target=\"_parent\"><img src=\"https://colab.research.google.com/assets/colab-badge.svg\" alt=\"Open In Colab\"/></a>"
      ]
    },
    {
      "cell_type": "code",
      "execution_count": 1,
      "metadata": {
        "id": "aA3w84rcpI1g",
        "outputId": "66551a32-241d-47a6-c8ba-77b73f5806e5",
        "colab": {
          "base_uri": "https://localhost:8080/",
          "height": 366
        }
      },
      "outputs": [
        {
          "output_type": "error",
          "ename": "ModuleNotFoundError",
          "evalue": "No module named 'graph_vis'",
          "traceback": [
            "\u001b[0;31m---------------------------------------------------------------------------\u001b[0m",
            "\u001b[0;31mModuleNotFoundError\u001b[0m                       Traceback (most recent call last)",
            "\u001b[0;32m<ipython-input-1-073aa12a7b40>\u001b[0m in \u001b[0;36m<cell line: 3>\u001b[0;34m()\u001b[0m\n\u001b[1;32m      1\u001b[0m \u001b[0;32mimport\u001b[0m \u001b[0mnumpy\u001b[0m \u001b[0;32mas\u001b[0m \u001b[0mnp\u001b[0m\u001b[0;34m\u001b[0m\u001b[0;34m\u001b[0m\u001b[0m\n\u001b[1;32m      2\u001b[0m \u001b[0;32mimport\u001b[0m \u001b[0mmatplotlib\u001b[0m\u001b[0;34m.\u001b[0m\u001b[0mpyplot\u001b[0m \u001b[0;32mas\u001b[0m \u001b[0mplt\u001b[0m\u001b[0;34m\u001b[0m\u001b[0;34m\u001b[0m\u001b[0m\n\u001b[0;32m----> 3\u001b[0;31m \u001b[0;32mfrom\u001b[0m \u001b[0mgraph_vis\u001b[0m \u001b[0;32mimport\u001b[0m \u001b[0mdraw_dot\u001b[0m\u001b[0;34m\u001b[0m\u001b[0;34m\u001b[0m\u001b[0m\n\u001b[0m\u001b[1;32m      4\u001b[0m \u001b[0;32mimport\u001b[0m \u001b[0mmath\u001b[0m\u001b[0;34m\u001b[0m\u001b[0;34m\u001b[0m\u001b[0m\n",
            "\u001b[0;31mModuleNotFoundError\u001b[0m: No module named 'graph_vis'",
            "",
            "\u001b[0;31m---------------------------------------------------------------------------\u001b[0;32m\nNOTE: If your import is failing due to a missing package, you can\nmanually install dependencies using either !pip or !apt.\n\nTo view examples of installing some common dependencies, click the\n\"Open Examples\" button below.\n\u001b[0;31m---------------------------------------------------------------------------\u001b[0m\n"
          ],
          "errorDetails": {
            "actions": [
              {
                "action": "open_url",
                "actionText": "Open Examples",
                "url": "/notebooks/snippets/importing_libraries.ipynb"
              }
            ]
          }
        }
      ],
      "source": [
        "import numpy as np\n",
        "import matplotlib.pyplot as plt\n",
        "from graph_vis import draw_dot\n",
        "import math"
      ]
    },
    {
      "cell_type": "markdown",
      "metadata": {
        "id": "8RtmCNtapI1i"
      },
      "source": [
        "<h2>Differentiation</h2>\n",
        "The derivative of a function ( f ) at a point ( x ) is defined as:\n",
        "\n",
        "$$\n",
        "f'(x) = \\lim_{h \\to 0} \\frac{{f(x+h) -f(x)}}{h}\n",
        "$$\n",
        "provided this limit exists."
      ]
    },
    {
      "cell_type": "code",
      "execution_count": null,
      "metadata": {
        "id": "tYT2LagupI1j"
      },
      "outputs": [],
      "source": [
        "def f(x):\n",
        "    return -4*x**3 + 3*x**2 + 2*x + 10\n",
        "\n",
        "def derivate(x):\n",
        "    return (f(x+0.00001) - f(x)) / 0.00001\n",
        "\n",
        "xs = np.arange(-10, 10, 0.1)\n",
        "ys = f(xs)\n",
        "\n",
        "y_der = derivate(xs)\n",
        "\n",
        "fig, ax = plt.subplots(1, 2, figsize=(7, 3.5), constrained_layout=True)\n",
        "\n",
        "ax[0].plot(xs, ys)\n",
        "ax[0].set_xlabel('xs')\n",
        "ax[0].set_ylabel('ys')\n",
        "ax[0].grid()\n",
        "\n",
        "ax[1].plot(xs, y_der)\n",
        "ax[1].set_xlabel('xs')\n",
        "ax[1].set_ylabel('y_der')\n",
        "ax[1].grid()\n",
        "\n",
        "ax[0].set_title('Function')\n",
        "ax[1].set_title('Derivative')\n",
        "\n",
        "plt.show()"
      ]
    },
    {
      "cell_type": "code",
      "execution_count": null,
      "metadata": {
        "id": "m5DMpsjdpI1k"
      },
      "outputs": [],
      "source": [
        "class Value:\n",
        "    def __init__(self, data, _children=(), _op='', label=''):\n",
        "        self.data = data\n",
        "        self._prev = set(_children)\n",
        "        self._op = _op\n",
        "        self._backward = lambda : None\n",
        "        self.label = label\n",
        "        self.grad = 0\n",
        "\n",
        "    def __repr__(self):\n",
        "        return f\"Value(data={self.data})\"\n",
        "\n",
        "    def __add__(self, other):\n",
        "        other = other if isinstance(other, Value) else Value(other)\n",
        "        out = Value(self.data + other.data, (self, other), '+')\n",
        "        def _backward():\n",
        "            self.grad += 1.0 * out.grad\n",
        "            other.grad += 1.0 * out.grad\n",
        "        out._backward = _backward\n",
        "        return out\n",
        "\n",
        "    def __mul__(self, other):\n",
        "        other = other if isinstance(other, Value) else Value(other)\n",
        "        out = Value(self.data * other.data, (self, other), '*')\n",
        "        def _backward():\n",
        "            self.grad += other.data * out.grad\n",
        "            other.grad += self.data * out.grad\n",
        "        out._backward = _backward\n",
        "        return out\n",
        "    def __rmul__(self, other): # Other * self\n",
        "        return self * other\n",
        "\n",
        "    def __pow__(self, other):\n",
        "        assert isinstance(other, (int or float)) # Only supporting for integers and floats\n",
        "        out = Value(self.data**other, (self,), f\"{other}\")\n",
        "        def _backward():\n",
        "            self.grad += (other * (self.data**(other -1))) * out.grad\n",
        "        out._backward = _backward\n",
        "        return out\n",
        "\n",
        "    def __truediv__(self, other):\n",
        "        return self * other**-1\n",
        "\n",
        "    # def __rtruediv__(self, other): #\n",
        "    #     return other * self**-1\n",
        "\n",
        "    def tanh(self):\n",
        "        x = self.data\n",
        "        t = (math.exp(2*x) - 1) / (math.exp(2*x) + 1)\n",
        "        out = Value(t, (self, ), _op='tanh')\n",
        "        def _backward():\n",
        "            self.grad += (1 - t**2) * out.grad\n",
        "        out._backward = _backward\n",
        "        return out\n",
        "\n",
        "    def backward(self):\n",
        "        topo = []\n",
        "        visited = set()\n",
        "        def build_topo(v):\n",
        "            if v not in visited:\n",
        "                visited.add(v)\n",
        "                for child in v._prev:\n",
        "                    build_topo(child)\n",
        "                topo.append(v)\n",
        "        build_topo(self)\n",
        "\n",
        "        self.grad = 1.0\n",
        "        for node in reversed(topo):\n",
        "            node._backward()\n"
      ]
    },
    {
      "cell_type": "code",
      "execution_count": null,
      "metadata": {
        "id": "l0D8gdIDpI1k"
      },
      "outputs": [],
      "source": [
        "a = Value(2, label='a')\n",
        "\n",
        "3*a"
      ]
    },
    {
      "cell_type": "markdown",
      "metadata": {
        "id": "lEGVzvlcpI1l"
      },
      "source": [
        "<h3> Dummy neural net</h3>"
      ]
    },
    {
      "cell_type": "code",
      "execution_count": null,
      "metadata": {
        "id": "9iaZSm30pI1l"
      },
      "outputs": [],
      "source": [
        "# Inputs x1, x2\n",
        "x1 = Value(2.0, label='x1')\n",
        "x2 = Value(0.0, label='x2')\n",
        "\n",
        "# Weights W1, W2\n",
        "w1 = Value(-3.0, label='w1')\n",
        "w2 = Value(1.0, label='w2')\n",
        "\n",
        "#bias\n",
        "b = Value(6.8813735870195432, label='b')\n",
        "\n",
        "x1w1 = x1.__mul__(w1); x1w1.label='x1*w1'\n",
        "x2w2 = x2.__mul__(w2); x2w2.label='x2*w2'\n",
        "\n",
        "x1w1_x2w2 = x1w1.__add__(x2w2); x1w1_x2w2.label='x1w1 + x2w2'\n",
        "\n",
        "n = x1w1_x2w2.__add__(b); n.label='n'\n",
        "\n",
        "o = n.tanh(); o.label='o'"
      ]
    },
    {
      "cell_type": "code",
      "execution_count": null,
      "metadata": {
        "id": "GFiTwFKhpI1l"
      },
      "outputs": [],
      "source": [
        "draw_dot(o)"
      ]
    },
    {
      "cell_type": "code",
      "execution_count": null,
      "metadata": {
        "id": "quekM11ppI1l"
      },
      "outputs": [],
      "source": [
        "o.backward()"
      ]
    },
    {
      "cell_type": "code",
      "execution_count": null,
      "metadata": {
        "id": "Mor7Zv-upI1m"
      },
      "outputs": [],
      "source": [
        "# o.grad = 1\n",
        "# o._backward()\n",
        "# n._backward()\n",
        "# b._backward()\n",
        "# x1w1_x2w2._backward()\n",
        "# x2w2._backward()\n",
        "# x1w1._backward()\n",
        "# x1._backward()\n",
        "# w1._backward()\n",
        "# x2._backward()\n",
        "# w2._backward()"
      ]
    },
    {
      "cell_type": "code",
      "execution_count": null,
      "metadata": {
        "id": "Dn6KOS8WpI1m"
      },
      "outputs": [],
      "source": [
        "# # MANUAL BACKPROPAGATION\n",
        "\n",
        "# o.grad = 1 # do/do = 1 Differ'n of 'o' w.r.to 'o' is 1.0\n",
        "# n.grad = 1 - n.tanh().data**2 # o = tanh(n) --> do/dn = d(tanh(n))/ dn = 1 - tanh(n)**2\n",
        "# b.grad = n.grad # do/db = do/dn * dn/db = n.grad * d( x1w1 + x2w2 + b )/ db = n.grad * 1 = n.grad\n",
        "# x1w1_x2w2.grad = n.grad # do/d(x1w1_x2w2)=do/dn * dn/d(x1w1_x2w2)=n.grad * d ((x1w1+x2w2) + b)/d(x1w1+x2w2)=n.grad * 1 = n.grad\n",
        "# x2w2.grad = x1w1_x2w2.grad\n",
        "# x1w1.grad = x1w1_x2w2.grad\n",
        "\n",
        "# # do / dw2 = do/dn * dn/d(x1w1_x2w2) * d(x1w1_x2w2)/d(x2w2) * d(x2w2) / dw2\n",
        "# w2.grad = n.grad * 1 * 1 * x2.data\n",
        "# x2.grad = n.grad * 1 * 1 * w2.data\n",
        "\n",
        "# w1.grad = n.grad * 1 * 1 * x1.data\n",
        "# x1.grad = n.grad * 1 * 1 * w1.data\n"
      ]
    },
    {
      "cell_type": "code",
      "execution_count": null,
      "metadata": {
        "id": "Wd3Ge7UmpI1m"
      },
      "outputs": [],
      "source": [
        "a = Value(2)\n",
        "b = Value(4)\n",
        "\n",
        "a/b"
      ]
    },
    {
      "cell_type": "code",
      "execution_count": null,
      "metadata": {
        "id": "Lbntax_OpI1m"
      },
      "outputs": [],
      "source": [
        "4/a"
      ]
    },
    {
      "cell_type": "code",
      "execution_count": null,
      "metadata": {
        "id": "viWuySaRpI1n"
      },
      "outputs": [],
      "source": []
    }
  ],
  "metadata": {
    "kernelspec": {
      "display_name": "Python 3",
      "language": "python",
      "name": "python3"
    },
    "language_info": {
      "codemirror_mode": {
        "name": "ipython",
        "version": 3
      },
      "file_extension": ".py",
      "mimetype": "text/x-python",
      "name": "python",
      "nbconvert_exporter": "python",
      "pygments_lexer": "ipython3",
      "version": "3.12.1"
    },
    "colab": {
      "provenance": [],
      "include_colab_link": true
    }
  },
  "nbformat": 4,
  "nbformat_minor": 0
}